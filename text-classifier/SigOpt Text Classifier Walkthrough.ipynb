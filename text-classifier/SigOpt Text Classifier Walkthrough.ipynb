{
 "cells": [
  {
   "cell_type": "code",
   "execution_count": 3,
   "metadata": {
    "collapsed": false
   },
   "outputs": [],
   "source": [
    "import json\n",
    "POSITIVE_TEXT = json.load(open(\"POSITIVE_list.json\"))\n",
    "NEGATIVE_TEXT = json.load(open(\"NEGATIVE_list.json\"))"
   ]
  },
  {
   "cell_type": "code",
   "execution_count": 4,
   "metadata": {
    "collapsed": false
   },
   "outputs": [
    {
     "name": "stdout",
     "output_type": "stream",
     "text": [
      "My husband is a BMW mechanic and he drives cars all day.  I wish I could get him one for every car\n",
      "\n"
     ]
    }
   ],
   "source": [
    "print POSITIVE_TEXT[0]"
   ]
  },
  {
   "cell_type": "code",
   "execution_count": 5,
   "metadata": {
    "collapsed": false
   },
   "outputs": [
    {
     "name": "stdout",
     "output_type": "stream",
     "text": [
      "Far better models for similair price range - dissapointed with the quality of the finish etc etc. works fine though.\n",
      "\n"
     ]
    }
   ],
   "source": [
    "print NEGATIVE_TEXT[0]"
   ]
  },
  {
   "cell_type": "code",
   "execution_count": 12,
   "metadata": {
    "collapsed": false
   },
   "outputs": [
    {
     "name": "stdout",
     "output_type": "stream",
     "text": [
      "{'ngram_range': (1, 1), 'max_df': 1.0, 'min_df': 1}\n"
     ]
    }
   ],
   "source": [
    "from sklearn.feature_extraction.text import CountVectorizer\n",
    "vectorizer = CountVectorizer()\n",
    "print {\n",
    "    'min_df': vectorizer.min_df,\n",
    "    'max_df': vectorizer.max_df,\n",
    "    'ngram_range': vectorizer.ngram_range,\n",
    "}"
   ]
  },
  {
   "cell_type": "code",
   "execution_count": 82,
   "metadata": {
    "collapsed": false
   },
   "outputs": [],
   "source": [
    "text_features = vectorizer.fit_transform(POSITIVE_TEXT + NEGATIVE_TEXT)\n"
   ]
  },
  {
   "cell_type": "code",
   "execution_count": 27,
   "metadata": {
    "collapsed": true
   },
   "outputs": [],
   "source": [
    "target = [1] * len(POSITIVE_TEXT) + [-1] * len(NEGATIVE_TEXT)"
   ]
  },
  {
   "cell_type": "code",
   "execution_count": 20,
   "metadata": {
    "collapsed": false
   },
   "outputs": [
    {
     "name": "stdout",
     "output_type": "stream",
     "text": [
      "{'alpha': 0.0001, 'l1_ratio': 0.15}\n"
     ]
    }
   ],
   "source": [
    "from sklearn.linear_model import SGDClassifier\n",
    "classifier = SGDClassifier(loss='log', penalty='elasticnet')\n",
    "print {\n",
    "    'alpha': classifier.alpha,\n",
    "    'l1_ratio': classifier.l1_ratio,\n",
    "}"
   ]
  },
  {
   "cell_type": "code",
   "execution_count": 60,
   "metadata": {
    "collapsed": false
   },
   "outputs": [],
   "source": [
    "from sklearn import cross_validation\n",
    "cv_split = cross_validation.ShuffleSplit(\n",
    "    text_features.shape[0], \n",
    "    n_iter=5, \n",
    "    test_size=0.3, \n",
    "    random_state=0\n",
    ")"
   ]
  },
  {
   "cell_type": "code",
   "execution_count": 32,
   "metadata": {
    "collapsed": false
   },
   "outputs": [],
   "source": [
    "cv_scores = cross_validation.cross_val_score(classifier, text_features, target, cv=cv_split)"
   ]
  },
  {
   "cell_type": "code",
   "execution_count": 34,
   "metadata": {
    "collapsed": false
   },
   "outputs": [
    {
     "name": "stdout",
     "output_type": "stream",
     "text": [
      "0.833289670659\n"
     ]
    }
   ],
   "source": [
    "import numpy\n",
    "print numpy.mean(cv_scores)"
   ]
  },
  {
   "cell_type": "code",
   "execution_count": 61,
   "metadata": {
    "collapsed": false
   },
   "outputs": [],
   "source": [
    "import math\n",
    "def sentiment_metric(positive, negative, assignments):\n",
    "    min_ngram = assignments['min_ngram']\n",
    "    max_ngram = min_ngram + assignments['ngram_offset']\n",
    "    min_doc_frequency = math.exp(assignments['log_min_df'])\n",
    "    max_doc_frequency = min_doc_frequency + assignments['df_offset']\n",
    "    vectorizer = CountVectorizer(\n",
    "        min_df=min_doc_frequency, \n",
    "        max_df=max_doc_frequency,                          \n",
    "        ngram_range=(min_ngram, max_ngram),\n",
    "    )\n",
    "    text_features = vectorizer.fit_transform(positive + negative)\n",
    "    target = [1] * len(positive) + [-1] * len(negative)\n",
    "    \n",
    "    alpha = math.exp(assignments['log_reg_coef'])\n",
    "    l1_ratio = assignments['l1_coef']\n",
    "    classifier = SGDClassifier(\n",
    "        loss='log', \n",
    "        penalty='elasticnet', \n",
    "        alpha=alpha, \n",
    "        l1_ratio=l1_ratio\n",
    "    )\n",
    "    cv = cross_validation.ShuffleSplit(\n",
    "        text_features.shape[0], \n",
    "        n_iter=5, \n",
    "        test_size=0.3, \n",
    "        random_state=0\n",
    "    )\n",
    "    cv_scores = cross_validation.cross_val_score(classifier, text_features, target, cv=cv)\n",
    "    return numpy.mean(cv_scores)"
   ]
  },
  {
   "cell_type": "code",
   "execution_count": 94,
   "metadata": {
    "collapsed": false
   },
   "outputs": [],
   "source": [
    "# insert your client token into sigopt_creds.py\n",
    "# find your client token at sigopt.com/user/profile\n",
    "from sigopt_creds import client_token\n",
    "try:\n",
    "    assert client_token\n",
    "except AssertionError:\n",
    "    raise Exception(\"Insert your client token into sigopt_creds.py. \"\n",
    "                    \"Find it at sigopt.com/user/profile\")"
   ]
  },
  {
   "cell_type": "code",
   "execution_count": 46,
   "metadata": {
    "collapsed": true
   },
   "outputs": [],
   "source": [
    "import sigopt.interface\n",
    "conn = sigopt.interface.Connection(client_token=client_token)"
   ]
  },
  {
   "cell_type": "code",
   "execution_count": 54,
   "metadata": {
    "collapsed": false
   },
   "outputs": [
    {
     "name": "stdout",
     "output_type": "stream",
     "text": [
      "View your experiment details at https://sigopt.com/experiment/2294\n"
     ]
    }
   ],
   "source": [
    "experiment = conn.experiments().create(\n",
    "    name='Sentiment LR Classifier',\n",
    "    parameters=[{ \n",
    "        'name':'l1_coef', \n",
    "        'type': 'double', \n",
    "        'bounds': { 'min': 0, 'max': 1.0 }\n",
    "    }, { \n",
    "        'name':'log_reg_coef', \n",
    "        'type': 'double', \n",
    "        'bounds': { 'min': math.log(0.000001), 'max': math.log(100.0) }\n",
    "    }, { \n",
    "        'name':'min_ngram', \n",
    "        'type': 'int',\n",
    "        'bounds': { 'min': 1, 'max': 2 }\n",
    "    }, { \n",
    "        'name':'ngram_offset',\n",
    "        'type': 'int',\n",
    "        'bounds': { 'min': 0, 'max': 2 }\n",
    "    }, { \n",
    "        'name':'log_min_df', \n",
    "        'type': 'double',\n",
    "        'bounds': { 'min': math.log(0.00000001), 'max': math.log(0.1) }\n",
    "    }, { \n",
    "        'name':'df_offset', \n",
    "        'type': 'double',\n",
    "        'bounds': { 'min': 0.01, 'max': 0.25 }\n",
    "    }],\n",
    ")\n",
    "print \"View your experiment details at https://sigopt.com/experiment/{0}\".format(experiment.id)"
   ]
  },
  {
   "cell_type": "code",
   "execution_count": 79,
   "metadata": {
    "collapsed": false
   },
   "outputs": [],
   "source": [
    "for _ in range(60):\n",
    "    suggestion = conn.experiments(experiment.id).suggestions().create()\n",
    "    opt_metric = sentiment_metric(POSITIVE_TEXT, NEGATIVE_TEXT, suggestion.assignments)\n",
    "    conn.experiments(experiment.id).observations().create(\n",
    "      suggestion=suggestion.id,\n",
    "      value=opt_metric,\n",
    "    ) "
   ]
  },
  {
   "cell_type": "code",
   "execution_count": 80,
   "metadata": {
    "collapsed": true
   },
   "outputs": [],
   "source": [
    "experiment = conn.experiments(experiment.id).fetch()"
   ]
  },
  {
   "cell_type": "code",
   "execution_count": 81,
   "metadata": {
    "collapsed": false
   },
   "outputs": [
    {
     "name": "stdout",
     "output_type": "stream",
     "text": [
      "Best value: 0.862836826347, found at:\n",
      "{\n",
      "    \"df_offset\": 0.1090952897880146,\n",
      "    \"l1_coef\": 0.01912058464824784,\n",
      "    \"log_min_df\": -15.45840961635736,\n",
      "    \"log_reg_coef\": -11.526470082037305,\n",
      "    \"min_ngram\": 1,\n",
      "    \"ngram_offset\": 1\n",
      "}\n"
     ]
    }
   ],
   "source": [
    "best_observation = experiment.progress.best_observation\n",
    "print \"Best value: {value}, found at:\\n{assignments}\".format(\n",
    "    value=best_observation.value, \n",
    "    assignments=json.dumps(\n",
    "        best_observation.assignments.to_json(),\n",
    "        sort_keys=True,\n",
    "        indent=4, \n",
    "        separators=(',', ': ')\n",
    "    )\n",
    ")"
   ]
  }
 ],
 "metadata": {
  "kernelspec": {
   "display_name": "Python 2",
   "language": "python",
   "name": "python2"
  },
  "language_info": {
   "codemirror_mode": {
    "name": "ipython",
    "version": 2
   },
   "file_extension": ".py",
   "mimetype": "text/x-python",
   "name": "python",
   "nbconvert_exporter": "python",
   "pygments_lexer": "ipython2",
   "version": "2.7.11"
  }
 },
 "nbformat": 4,
 "nbformat_minor": 0
}
