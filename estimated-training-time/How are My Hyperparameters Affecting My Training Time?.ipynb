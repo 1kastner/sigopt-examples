{
 "cells": [
  {
   "cell_type": "markdown",
   "metadata": {},
   "source": [
    "# SigOpt Explorations: How are My Hyperparameters Affecting My Training Time?\n",
    "_By [Alexandra Johnson](https://sigopt.com/about#alexandra), Software Engineer_\n",
    "\n",
    "SigOpt helps you optimize your hyperparameters, but did you know that SigOpt can also help you explore how long it takes to train your models? This jupyter notebook tutorial will show you how to use the [SigOpt API](https://sigopt.com/docs/overview) to learn new and interesting insights about how parameter values affect model training time. We'll show you the single-threaded case, but [parallelization](https://sigopt.com/docs/overview/parallel) is simple, too.\n",
    "\n",
    "## How it Works\n",
    "If you've been using the SigOpt [optimization loop](https://sigopt.com/docs/overview/optimization) to tune your models, you've been requesting a suggestion, evaluating your metric, and reporting an observation. [Suggestion](https://sigopt.com/docs/objects/suggestion) and [Observation](sigopt.com/docs/objects/observation) objects support a field called [metadata](https://sigopt.com/docs/overview/metadata), which allows you to store extra data on the object. This notebook walks you through creating observations with training time data, and plotting interesting graphs using this information. \n",
    "\n",
    "## Setup\n",
    "Run the following commands to clone this repo, install dependencies, and get this notebook up and running. After running these commands a browser window should pop up, and from there you can navigate to this notebook ([this link](http://localhost:8888/notebooks/How%20are%20My%20Hyperparameters%20Affecting%20My%20Training%20Time%3F.ipynb) should also take you directly to the notebook one jupyter is running).\n",
    "```\n",
    "git clone https://github.com/sigopt/sigopt-examples.git\n",
    "cd sigopt-examples/estimated-training-time/\n",
    "pip install -r requirements.txt\n",
    "jupyter notebook\n",
    "```\n",
    "Next, get your SigOpt API token from your [user dashboard](https://sigopt.com/user/profile). Set as the environment variable `SIGOPT_API_TOKEN`, or insert directly into the code below."
   ]
  },
  {
   "cell_type": "code",
   "execution_count": null,
   "metadata": {
    "collapsed": false
   },
   "outputs": [],
   "source": [
    "# Insert your SigOpt API token below, or set as the environment variable SIGOPT_API_TOKEN\n",
    "from sigopt.interface import Connection\n",
    "conn = Connection() # attempt to use environment variable SIGOPT_API_TOKEN\n",
    "# conn = Connection(client_token=SIGOPT_API_TOKEN) # enter token directly"
   ]
  },
  {
   "cell_type": "markdown",
   "metadata": {},
   "source": [
    "# Tutorial\n",
    "The first step is to either provide an experiment id, or to create an interesting experiment. Here, we're creating an experiment and an evaluation function for you. If you'd like to time your own models, fill these in yourself!"
   ]
  },
  {
   "cell_type": "code",
   "execution_count": null,
   "metadata": {
    "collapsed": false
   },
   "outputs": [],
   "source": [
    "experiment = conn.experiments().create(\n",
    "    name=\"Timing Test Experiment\",\n",
    "    parameters=[\n",
    "        {'name': 'x', 'type': 'int', 'bounds': {'min': 0, 'max': 2}},\n",
    "        {'name': 'y', 'type': 'int', 'bounds': {'min': 0, 'max': 2}},\n",
    "        {'name': 'z', 'type': 'double', 'bounds': {'min': 0, 'max': 1}},\n",
    "    ],\n",
    "    metadata={\n",
    "        'owner': 'Alexandra'\n",
    "    }\n",
    ")\n",
    "print \"View you experiment at https://sigopt.com/experiment/{}\".format(experiment.id)"
   ]
  },
  {
   "cell_type": "code",
   "execution_count": null,
   "metadata": {
    "collapsed": true
   },
   "outputs": [],
   "source": [
    "import math, random\n",
    "def evaluate_metric(assignments):\n",
    "    x = assignments['x']\n",
    "    y = assignments['y']\n",
    "    z = assignments['z']\n",
    "    sum = 0\n",
    "    for i in range(100 * x):\n",
    "        for j in range(100 * y):\n",
    "            sum += math.sin(z * random.random())\n",
    "    return sum"
   ]
  },
  {
   "cell_type": "markdown",
   "metadata": {},
   "source": [
    "## Report Your Timing Data\n",
    "Train your model using a modified evaluation loop that captures the time needed to run the evaluation function. `evaluate_metric` is the function that you implement. If you need inspiration, check out our example on [tuning a text classifier](https://github.com/sigopt/sigopt-examples/tree/master/text-classifier)."
   ]
  },
  {
   "cell_type": "code",
   "execution_count": null,
   "metadata": {
    "collapsed": false
   },
   "outputs": [],
   "source": [
    "from time import time\n",
    "\n",
    "# train for 10x to 20x the number of dimensions\n",
    "for _ in range(30):\n",
    "    suggestion = conn.experiments(experiment.id).suggestions().create()\n",
    "    start_ts = time()\n",
    "    value = evaluate_metric(suggestion.assignments)\n",
    "    end_ts = time()\n",
    "    # Report an observation with training_time metadata\n",
    "    observation = conn.experiments(experiment.id).observations().create(\n",
    "        suggestion=suggestion.id,\n",
    "        value=value,\n",
    "        metadata={'training_time': (end_ts - start_ts)}\n",
    "    )"
   ]
  },
  {
   "cell_type": "markdown",
   "metadata": {},
   "source": [
    "## Graph A Distribution of Training Times"
   ]
  },
  {
   "cell_type": "code",
   "execution_count": null,
   "metadata": {
    "collapsed": false
   },
   "outputs": [],
   "source": [
    "# Initialize plotly\n",
    "from plotly.offline import iplot, init_notebook_mode\n",
    "from plotly.graph_objs import Scatter, Histogram\n",
    "\n",
    "init_notebook_mode() # run at the start of every notebook"
   ]
  },
  {
   "cell_type": "code",
   "execution_count": null,
   "metadata": {
    "collapsed": false
   },
   "outputs": [],
   "source": [
    "# Plot a histogram of the distribution of training times\n",
    "observations = conn.experiments(experiment.id).observations().fetch().data\n",
    "training_time_map = {\n",
    "    observation.id: observation.metadata['training_time'] \n",
    "    for observation \n",
    "    in observations\n",
    "}\n",
    "\n",
    "iplot({\n",
    "    'data': [Histogram(x=training_time_map.values())],\n",
    "    'layout': {\n",
    "        'title': 'Distribution of Training Times',\n",
    "        'xaxis': {'title': 'seconds'},\n",
    "    },\n",
    "})"
   ]
  },
  {
   "cell_type": "markdown",
   "metadata": {},
   "source": [
    "## Graph Training Time versus Parameter Value\n",
    "Now we have our `observations` and our `training_time_map` from the last step, we can create some interesting scatterplots of training time versus parameter value for each parameter in our experiment."
   ]
  },
  {
   "cell_type": "code",
   "execution_count": null,
   "metadata": {
    "collapsed": false
   },
   "outputs": [],
   "source": [
    "# Create x,y axes for our graphs, one graph per parameter\n",
    "# y axis is always estimated training times\n",
    "# x axis is parameter values\n",
    "# Don't include observations for which there is no estimated training time (ie, entered assignments manually)\n",
    "# rather than using a suggestion\n",
    "training_times = []\n",
    "parameter_names = [p.to_json()['name'] for p in experiment.parameters]\n",
    "parameter_values = {param: [] for param in parameter_names}\n",
    "for o in observations:\n",
    "    training_time = training_time_map.get(o.id, None)\n",
    "    if training_time is not None:\n",
    "        training_times.append(training_time)\n",
    "        for (param, value) in o.assignments.to_json().iteritems():\n",
    "            parameter_values[param].append(value)"
   ]
  },
  {
   "cell_type": "code",
   "execution_count": null,
   "metadata": {
    "collapsed": false,
    "scrolled": false
   },
   "outputs": [],
   "source": [
    "# Ensure you have run the plotly setup earlier in the notebook\n",
    "for (param, values) in parameter_values.iteritems():\n",
    "    iplot({\n",
    "            'data': [Scatter(x=values, y=training_times, mode=\"markers\")],\n",
    "            'layout': {\n",
    "                'title': u'Training Time vs {}'.format(param),\n",
    "                'xaxis': {'title': 'seconds'},\n",
    "            },\n",
    "            \n",
    "    })"
   ]
  },
  {
   "cell_type": "markdown",
   "metadata": {},
   "source": [
    "## Next Steps\n",
    "Did you notice anything interesting with your experiments? Do the graphs match up to your intuition about how parameter values affect training time? Email <contact@sigopt.com> or tweet to [@SigOpt](twitter.com/sigopt) to let us know what you find! Happy Optimizing!"
   ]
  }
 ],
 "metadata": {
  "kernelspec": {
   "display_name": "Python 2",
   "language": "python",
   "name": "python2"
  },
  "language_info": {
   "codemirror_mode": {
    "name": "ipython",
    "version": 2
   },
   "file_extension": ".py",
   "mimetype": "text/x-python",
   "name": "python",
   "nbconvert_exporter": "python",
   "pygments_lexer": "ipython2",
   "version": "2.7.10"
  }
 },
 "nbformat": 4,
 "nbformat_minor": 0
}
